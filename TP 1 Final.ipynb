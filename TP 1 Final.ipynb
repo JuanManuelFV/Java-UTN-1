{
 "cells": [
  {
   "cell_type": "markdown",
   "id": "0d86f5db",
   "metadata": {},
   "source": [
    "## Trabajo Práctico M1\n",
    "#### Juan Manuel Fernández"
   ]
  },
  {
   "cell_type": "code",
   "execution_count": null,
   "id": "3084299b",
   "metadata": {},
   "outputs": [
    {
     "name": "stdout",
     "output_type": "stream",
     "text": [
      "9\n"
     ]
    }
   ],
   "source": [
    "#Ejercicio 1\n",
    "\n",
    "def suma(*l):\n",
    "    t = 0\n",
    "    for i in l:\n",
    "        t = t + i\n",
    "    print(t)\n",
    "\n",
    "suma(4,5,2)\n"
   ]
  },
  {
   "cell_type": "code",
   "execution_count": null,
   "id": "0469887c",
   "metadata": {},
   "outputs": [
    {
     "name": "stdout",
     "output_type": "stream",
     "text": [
      "[(2, 2), (2, 4), (2, 6), (4, 2), (4, 4), (4, 6), (6, 2), (6, 4), (6, 6)]\n"
     ]
    }
   ],
   "source": [
    "#Ejercicio 2 (V1)\n",
    "\n",
    "def combinar(*a):\n",
    "    e = []    \n",
    "    for b in a: \n",
    "        for c in a:\n",
    "            d = (b,c)\n",
    "            e.append(d)\n",
    "    print(e)        \n",
    "    \n",
    "combinar(2, 4, 6)"
   ]
  },
  {
   "cell_type": "code",
   "execution_count": 4,
   "id": "cb5d6699",
   "metadata": {},
   "outputs": [
    {
     "name": "stdout",
     "output_type": "stream",
     "text": [
      "[(2, 2), (2, 4), (2, 6), (4, 2), (4, 4), (4, 6), (6, 2), (6, 4), (6, 6)]\n"
     ]
    }
   ],
   "source": [
    "#Ejercicio 2 (V2)\n",
    "\n",
    "def combinar(*a):\n",
    "    \n",
    "    d = [(b,c) for b in a for c in a]\n",
    "    print(d)    \n",
    "    \n",
    "combinar(2, 4, 6)"
   ]
  },
  {
   "cell_type": "code",
   "execution_count": null,
   "id": "eef40ea9",
   "metadata": {},
   "outputs": [],
   "source": []
  }
 ],
 "metadata": {
  "kernelspec": {
   "display_name": "Python 3 (ipykernel)",
   "language": "python",
   "name": "python3"
  },
  "language_info": {
   "codemirror_mode": {
    "name": "ipython",
    "version": 3
   },
   "file_extension": ".py",
   "mimetype": "text/x-python",
   "name": "python",
   "nbconvert_exporter": "python",
   "pygments_lexer": "ipython3",
   "version": "3.8.8rc1"
  }
 },
 "nbformat": 4,
 "nbformat_minor": 5
}
